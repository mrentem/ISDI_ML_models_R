{
 "cells": [
  {
   "cell_type": "markdown",
   "metadata": {},
   "source": [
    "## Classification Workshop: Wines data set\n",
    "\n",
    "In this workshop we used a well-known data set called 'wines' which includes the chemical characteristics of some different wines. Thisdata set is part of the materials provided at UC Irvine Machine Learning Repository.\n",
    "\n",
    "\n",
    "The file is well documented and all info can be found in the following url: https://archive.ics.uci.edu/ml/datasets/Wine\n",
    "\n",
    "**NOTE**: As I had some problems loading the data from the original source, I turned to an alternative source in GitHub.\n"
   ]
  },
  {
   "cell_type": "code",
   "execution_count": 11,
   "metadata": {},
   "outputs": [
    {
     "data": {
      "text/html": [
       "<table>\n",
       "<thead><tr><th scope=col>Wine</th><th scope=col>Alcohol</th><th scope=col>Malic.acid</th><th scope=col>Ash</th><th scope=col>Acl</th><th scope=col>Mg</th><th scope=col>Phenols</th><th scope=col>Flavanoids</th><th scope=col>Nonflavanoid.phenols</th><th scope=col>Proanth</th><th scope=col>Color.int</th><th scope=col>Hue</th><th scope=col>OD</th><th scope=col>Proline</th></tr></thead>\n",
       "<tbody>\n",
       "\t<tr><td>1    </td><td>14.23</td><td>1.71 </td><td>2.43 </td><td>15.6 </td><td>127  </td><td>2.80 </td><td>3.06 </td><td>0.28 </td><td>2.29 </td><td>5.64 </td><td>1.04 </td><td>3.92 </td><td>1065 </td></tr>\n",
       "\t<tr><td>1    </td><td>13.20</td><td>1.78 </td><td>2.14 </td><td>11.2 </td><td>100  </td><td>2.65 </td><td>2.76 </td><td>0.26 </td><td>1.28 </td><td>4.38 </td><td>1.05 </td><td>3.40 </td><td>1050 </td></tr>\n",
       "\t<tr><td>1    </td><td>13.16</td><td>2.36 </td><td>2.67 </td><td>18.6 </td><td>101  </td><td>2.80 </td><td>3.24 </td><td>0.30 </td><td>2.81 </td><td>5.68 </td><td>1.03 </td><td>3.17 </td><td>1185 </td></tr>\n",
       "\t<tr><td>1    </td><td>14.37</td><td>1.95 </td><td>2.50 </td><td>16.8 </td><td>113  </td><td>3.85 </td><td>3.49 </td><td>0.24 </td><td>2.18 </td><td>7.80 </td><td>0.86 </td><td>3.45 </td><td>1480 </td></tr>\n",
       "\t<tr><td>1    </td><td>13.24</td><td>2.59 </td><td>2.87 </td><td>21.0 </td><td>118  </td><td>2.80 </td><td>2.69 </td><td>0.39 </td><td>1.82 </td><td>4.32 </td><td>1.04 </td><td>2.93 </td><td> 735 </td></tr>\n",
       "\t<tr><td>1    </td><td>14.20</td><td>1.76 </td><td>2.45 </td><td>15.2 </td><td>112  </td><td>3.27 </td><td>3.39 </td><td>0.34 </td><td>1.97 </td><td>6.75 </td><td>1.05 </td><td>2.85 </td><td>1450 </td></tr>\n",
       "</tbody>\n",
       "</table>\n"
      ],
      "text/latex": [
       "\\begin{tabular}{r|llllllllllllll}\n",
       " Wine & Alcohol & Malic.acid & Ash & Acl & Mg & Phenols & Flavanoids & Nonflavanoid.phenols & Proanth & Color.int & Hue & OD & Proline\\\\\n",
       "\\hline\n",
       "\t 1     & 14.23 & 1.71  & 2.43  & 15.6  & 127   & 2.80  & 3.06  & 0.28  & 2.29  & 5.64  & 1.04  & 3.92  & 1065 \\\\\n",
       "\t 1     & 13.20 & 1.78  & 2.14  & 11.2  & 100   & 2.65  & 2.76  & 0.26  & 1.28  & 4.38  & 1.05  & 3.40  & 1050 \\\\\n",
       "\t 1     & 13.16 & 2.36  & 2.67  & 18.6  & 101   & 2.80  & 3.24  & 0.30  & 2.81  & 5.68  & 1.03  & 3.17  & 1185 \\\\\n",
       "\t 1     & 14.37 & 1.95  & 2.50  & 16.8  & 113   & 3.85  & 3.49  & 0.24  & 2.18  & 7.80  & 0.86  & 3.45  & 1480 \\\\\n",
       "\t 1     & 13.24 & 2.59  & 2.87  & 21.0  & 118   & 2.80  & 2.69  & 0.39  & 1.82  & 4.32  & 1.04  & 2.93  &  735 \\\\\n",
       "\t 1     & 14.20 & 1.76  & 2.45  & 15.2  & 112   & 3.27  & 3.39  & 0.34  & 1.97  & 6.75  & 1.05  & 2.85  & 1450 \\\\\n",
       "\\end{tabular}\n"
      ],
      "text/markdown": [
       "\n",
       "| Wine | Alcohol | Malic.acid | Ash | Acl | Mg | Phenols | Flavanoids | Nonflavanoid.phenols | Proanth | Color.int | Hue | OD | Proline |\n",
       "|---|---|---|---|---|---|---|---|---|---|---|---|---|---|\n",
       "| 1     | 14.23 | 1.71  | 2.43  | 15.6  | 127   | 2.80  | 3.06  | 0.28  | 2.29  | 5.64  | 1.04  | 3.92  | 1065  |\n",
       "| 1     | 13.20 | 1.78  | 2.14  | 11.2  | 100   | 2.65  | 2.76  | 0.26  | 1.28  | 4.38  | 1.05  | 3.40  | 1050  |\n",
       "| 1     | 13.16 | 2.36  | 2.67  | 18.6  | 101   | 2.80  | 3.24  | 0.30  | 2.81  | 5.68  | 1.03  | 3.17  | 1185  |\n",
       "| 1     | 14.37 | 1.95  | 2.50  | 16.8  | 113   | 3.85  | 3.49  | 0.24  | 2.18  | 7.80  | 0.86  | 3.45  | 1480  |\n",
       "| 1     | 13.24 | 2.59  | 2.87  | 21.0  | 118   | 2.80  | 2.69  | 0.39  | 1.82  | 4.32  | 1.04  | 2.93  |  735  |\n",
       "| 1     | 14.20 | 1.76  | 2.45  | 15.2  | 112   | 3.27  | 3.39  | 0.34  | 1.97  | 6.75  | 1.05  | 2.85  | 1450  |\n",
       "\n"
      ],
      "text/plain": [
       "  Wine Alcohol Malic.acid Ash  Acl  Mg  Phenols Flavanoids Nonflavanoid.phenols\n",
       "1 1    14.23   1.71       2.43 15.6 127 2.80    3.06       0.28                \n",
       "2 1    13.20   1.78       2.14 11.2 100 2.65    2.76       0.26                \n",
       "3 1    13.16   2.36       2.67 18.6 101 2.80    3.24       0.30                \n",
       "4 1    14.37   1.95       2.50 16.8 113 3.85    3.49       0.24                \n",
       "5 1    13.24   2.59       2.87 21.0 118 2.80    2.69       0.39                \n",
       "6 1    14.20   1.76       2.45 15.2 112 3.27    3.39       0.34                \n",
       "  Proanth Color.int Hue  OD   Proline\n",
       "1 2.29    5.64      1.04 3.92 1065   \n",
       "2 1.28    4.38      1.05 3.40 1050   \n",
       "3 2.81    5.68      1.03 3.17 1185   \n",
       "4 2.18    7.80      0.86 3.45 1480   \n",
       "5 1.82    4.32      1.04 2.93  735   \n",
       "6 1.97    6.75      1.05 2.85 1450   "
      ]
     },
     "metadata": {},
     "output_type": "display_data"
    }
   ],
   "source": [
    "wines = read.csv(\"https://gist.githubusercontent.com/tijptjik/9408623/raw/b237fa5848349a14a14e5d4107dc7897c21951f5/wine.csv\", header=TRUE)\n",
    "head(wine)"
   ]
  },
  {
   "cell_type": "markdown",
   "metadata": {},
   "source": [
    "The original data set did not indentify the variables. However, they were described in the documentation. The first dimension 'Wine' indicated the type of wine (i.e., it is the variable providing the type which will allow us to check the classification). This will determine later the columns we will take in order to fit the model:\n",
    "\n",
    "* To fit C.50 model, we will first load the library\n",
    "* With 'model' we ask to characterise column 'Wine' in terms of the rest of the variables. It will try to find a division in the set that will explain the complete set.\n",
    "* Given that C.50 requires the result to be a factor, we apply as.factor to column 'Wine'."
   ]
  },
  {
   "cell_type": "code",
   "execution_count": 22,
   "metadata": {},
   "outputs": [],
   "source": [
    "library(C50)\n",
    "model = C5.0 (Wine ~., data=wines)"
   ]
  },
  {
   "cell_type": "code",
   "execution_count": 23,
   "metadata": {},
   "outputs": [
    {
     "data": {
      "text/plain": [
       " Wine      Alcohol        Malic.acid         Ash             Acl       \n",
       " 1:59   Min.   :11.03   Min.   :0.740   Min.   :1.360   Min.   :10.60  \n",
       " 2:71   1st Qu.:12.36   1st Qu.:1.603   1st Qu.:2.210   1st Qu.:17.20  \n",
       " 3:48   Median :13.05   Median :1.865   Median :2.360   Median :19.50  \n",
       "        Mean   :13.00   Mean   :2.336   Mean   :2.367   Mean   :19.49  \n",
       "        3rd Qu.:13.68   3rd Qu.:3.083   3rd Qu.:2.558   3rd Qu.:21.50  \n",
       "        Max.   :14.83   Max.   :5.800   Max.   :3.230   Max.   :30.00  \n",
       "       Mg            Phenols        Flavanoids    Nonflavanoid.phenols\n",
       " Min.   : 70.00   Min.   :0.980   Min.   :0.340   Min.   :0.1300      \n",
       " 1st Qu.: 88.00   1st Qu.:1.742   1st Qu.:1.205   1st Qu.:0.2700      \n",
       " Median : 98.00   Median :2.355   Median :2.135   Median :0.3400      \n",
       " Mean   : 99.74   Mean   :2.295   Mean   :2.029   Mean   :0.3619      \n",
       " 3rd Qu.:107.00   3rd Qu.:2.800   3rd Qu.:2.875   3rd Qu.:0.4375      \n",
       " Max.   :162.00   Max.   :3.880   Max.   :5.080   Max.   :0.6600      \n",
       "    Proanth        Color.int           Hue               OD       \n",
       " Min.   :0.410   Min.   : 1.280   Min.   :0.4800   Min.   :1.270  \n",
       " 1st Qu.:1.250   1st Qu.: 3.220   1st Qu.:0.7825   1st Qu.:1.938  \n",
       " Median :1.555   Median : 4.690   Median :0.9650   Median :2.780  \n",
       " Mean   :1.591   Mean   : 5.058   Mean   :0.9574   Mean   :2.612  \n",
       " 3rd Qu.:1.950   3rd Qu.: 6.200   3rd Qu.:1.1200   3rd Qu.:3.170  \n",
       " Max.   :3.580   Max.   :13.000   Max.   :1.7100   Max.   :4.000  \n",
       "    Proline      \n",
       " Min.   : 278.0  \n",
       " 1st Qu.: 500.5  \n",
       " Median : 673.5  \n",
       " Mean   : 746.9  \n",
       " 3rd Qu.: 985.0  \n",
       " Max.   :1680.0  "
      ]
     },
     "metadata": {},
     "output_type": "display_data"
    }
   ],
   "source": [
    "wines$Wine = as.factor (wines$Wine)\n",
    "summary(wines)"
   ]
  },
  {
   "cell_type": "code",
   "execution_count": 24,
   "metadata": {},
   "outputs": [
    {
     "data": {
      "image/png": "[encoded data removed]",
      "text/plain": [
       "plot without title"
      ]
     },
     "metadata": {},
     "output_type": "display_data"
    }
   ],
   "source": [
    "model = C5.0(Wine ~., data=wines)\n",
    "plot(model)"
   ]
  },
  {
   "cell_type": "markdown",
   "metadata": {},
   "source": [
    "#### Plot interpretation:\n",
    "\n",
    "In the plot above, we can see that wines from Type 1 are mostly in Node 9. If we take the values of the variables, we can see that:\n",
    "\n",
    "* Wines of **Type 1** are mostly in Node 9: these are wines where Proanth variable are above 1.57, Proline is above 720 and OD280/OD315 values of diluted wines is higher than 3.4. There is only one wine in this group with diffetent characteristics and it is classified in Node 6 (i.e., the Proline is bellow 720)\n",
    "* Wines from **Type 2** are more diverse, and have been classified in different Nodes - maiunly, Nodes 3, 6 and 8.\n",
    "* Finally, wines from **Type 3** are all classified in Node 4.\n",
    "\n",
    "Let`s try to **make some interpretation from all this**. We could infer that this classification has been done in a set of wines coming from three different wineries. We could conclude that the third winery produces very similar wines, with very similar characteristics which puts them in the same Node.\n",
    "\n",
    "On the contrary, the second winery has more variety of wines, at least three different types of wines. The first winery offers a very even type of wines, all but one wine, whose characteristics put them in a different node. Maybe the special vintage from the house? We would love to try it... cheers!"
   ]
  },
  {
   "cell_type": "code",
   "execution_count": null,
   "metadata": {},
   "outputs": [],
   "source": []
  }
 ],
 "metadata": {
  "kernelspec": {
   "display_name": "R",
   "language": "R",
   "name": "ir"
  },
  "language_info": {
   "codemirror_mode": "r",
   "file_extension": ".r",
   "mimetype": "text/x-r-source",
   "name": "R",
   "pygments_lexer": "r",
   "version": "3.6.1"
  }
 },
 "nbformat": 4,
 "nbformat_minor": 2
}
